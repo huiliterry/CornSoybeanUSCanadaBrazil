{
  "cells": [
    {
      "cell_type": "markdown",
      "metadata": {
        "id": "view-in-github",
        "colab_type": "text"
      },
      "source": [
        "<a href=\"https://colab.research.google.com/github/huiliterry/CornSoybeanUSCanadaBrazil/blob/main/USGridMapping_StratifySample.ipynb\" target=\"_parent\"><img src=\"https://colab.research.google.com/assets/colab-badge.svg\" alt=\"Open In Colab\"/></a>"
      ]
    },
    {
      "cell_type": "code",
      "execution_count": null,
      "metadata": {
        "id": "3X0KwOS2mC4y"
      },
      "outputs": [],
      "source": [
        "import ee\n",
        "import geemap.core as geemap"
      ]
    },
    {
      "cell_type": "code",
      "execution_count": null,
      "metadata": {
        "colab": {
          "base_uri": "https://localhost:8080/",
          "height": 17
        },
        "id": "tDo2l5pXkgC4",
        "outputId": "e5c460ca-55c8-486f-d1d3-45bc29e1d60b"
      },
      "outputs": [
        {
          "output_type": "display_data",
          "data": {
            "text/plain": [
              "<IPython.core.display.HTML object>"
            ],
            "text/html": [
              "\n",
              "            <style>\n",
              "                .geemap-dark {\n",
              "                    --jp-widgets-color: white;\n",
              "                    --jp-widgets-label-color: white;\n",
              "                    --jp-ui-font-color1: white;\n",
              "                    --jp-layout-color2: #454545;\n",
              "                    background-color: #383838;\n",
              "                }\n",
              "\n",
              "                .geemap-dark .jupyter-button {\n",
              "                    --jp-layout-color3: #383838;\n",
              "                }\n",
              "\n",
              "                .geemap-colab {\n",
              "                    background-color: var(--colab-primary-surface-color, white);\n",
              "                }\n",
              "\n",
              "                .geemap-colab .jupyter-button {\n",
              "                    --jp-layout-color3: var(--colab-primary-surface-color, white);\n",
              "                }\n",
              "            </style>\n",
              "            "
            ]
          },
          "metadata": {}
        }
      ],
      "source": [
        "ee.Authenticate()\n",
        "ee.Initialize(project='ee-huil7073') #please change to your project name"
      ]
    },
    {
      "cell_type": "code",
      "execution_count": null,
      "metadata": {
        "colab": {
          "base_uri": "https://localhost:8080/",
          "height": 17
        },
        "id": "MXy1W-9inGNH",
        "outputId": "35de0d6a-878a-4ab0-94ac-4a5456ec0d0a"
      },
      "outputs": [
        {
          "output_type": "display_data",
          "data": {
            "text/plain": [
              "<IPython.core.display.HTML object>"
            ],
            "text/html": [
              "\n",
              "            <style>\n",
              "                .geemap-dark {\n",
              "                    --jp-widgets-color: white;\n",
              "                    --jp-widgets-label-color: white;\n",
              "                    --jp-ui-font-color1: white;\n",
              "                    --jp-layout-color2: #454545;\n",
              "                    background-color: #383838;\n",
              "                }\n",
              "\n",
              "                .geemap-dark .jupyter-button {\n",
              "                    --jp-layout-color3: #383838;\n",
              "                }\n",
              "\n",
              "                .geemap-colab {\n",
              "                    background-color: var(--colab-primary-surface-color, white);\n",
              "                }\n",
              "\n",
              "                .geemap-colab .jupyter-button {\n",
              "                    --jp-layout-color3: var(--colab-primary-surface-color, white);\n",
              "                }\n",
              "            </style>\n",
              "            "
            ]
          },
          "metadata": {}
        }
      ],
      "source": [
        "import geemap\n",
        "m = geemap.Map()"
      ]
    },
    {
      "cell_type": "markdown",
      "metadata": {
        "id": "3v9-ZRdGnM57"
      },
      "source": [
        "## **1. S2 image collection**"
      ]
    },
    {
      "cell_type": "code",
      "execution_count": null,
      "metadata": {
        "colab": {
          "base_uri": "https://localhost:8080/",
          "height": 17
        },
        "id": "gDfpyXR3nLeA",
        "outputId": "06c6fed6-0aeb-4866-c424-69d262d2a891"
      },
      "outputs": [
        {
          "output_type": "display_data",
          "data": {
            "text/plain": [
              "<IPython.core.display.HTML object>"
            ],
            "text/html": [
              "\n",
              "            <style>\n",
              "                .geemap-dark {\n",
              "                    --jp-widgets-color: white;\n",
              "                    --jp-widgets-label-color: white;\n",
              "                    --jp-ui-font-color1: white;\n",
              "                    --jp-layout-color2: #454545;\n",
              "                    background-color: #383838;\n",
              "                }\n",
              "\n",
              "                .geemap-dark .jupyter-button {\n",
              "                    --jp-layout-color3: #383838;\n",
              "                }\n",
              "\n",
              "                .geemap-colab {\n",
              "                    background-color: var(--colab-primary-surface-color, white);\n",
              "                }\n",
              "\n",
              "                .geemap-colab .jupyter-button {\n",
              "                    --jp-layout-color3: var(--colab-primary-surface-color, white);\n",
              "                }\n",
              "            </style>\n",
              "            "
            ]
          },
          "metadata": {}
        }
      ],
      "source": [
        "def S2_cutCldSlw(start_date,end_date,boundary,CLD_PRB_THRESH,NIR_DRK_THRESH,CLD_PRJ_DIST,BUFFER):\n",
        "  def addVariables(image):\n",
        "    #// Compute time in fractional years since the epoch.\n",
        "    date = ee.String(image.get('system:index'))\n",
        "    #// var days = ee.Date(date.slice(0,4).cat('-').cat(date.slice(4,6)).cat('-').cat(date.slice(6,8))).format('DDD');\n",
        "    year = date.slice(0,4)\n",
        "    month = date.slice(4,6)\n",
        "    dateOfMonth = date.slice(6,8)\n",
        "    #//generating day number in the imgcollection\n",
        "    days = (ee.Number.parse(ee.Date(year.cat('-').cat(month).cat('-').cat(dateOfMonth)).format('DDD'))\n",
        "                        .add((ee.Number.parse(year).subtract(ee.Number.parse(startYear))).multiply(365))\n",
        "                        .subtract(initialDays))\n",
        "    #// Return the image with the added bands.\n",
        "    return (image\n",
        "    #// Add an NDVI band.\n",
        "    .addBands(image.normalizedDifference(['B8', 'B4']).float().rename('NDVI'))\n",
        "    #// Add an GCVI band.\n",
        "    .addBands(image.select('B8').divide(image.select('B3')).subtract(ee.Image(1)).float().rename('GCVI'))\n",
        "    .addBands(image.normalizedDifference(['B3','B8']).float().rename('NDWI'))\n",
        "    #// Add an MSI band.\n",
        "    .addBands(image.select('B11').divide(image.select('B8')).float().rename('MSI'))\n",
        "    #// edit band names.\n",
        "    .select(band)\n",
        "    .set('system:day_start',ee.Number.parse(days)))\n",
        "\n",
        "  #// Remove clouds, add variables and filter to the area of interest.\n",
        "  #// Cloud components\n",
        "  def add_cloud_bands(img):\n",
        "      #//Get s2cloudless image, subset the probability band.\n",
        "      cld_prb = ee.Image(img.get('s2cloudless')).select('probability')\n",
        "      #//Condition s2cloudless by the probability threshold value.\n",
        "      is_cloud = cld_prb.gt(CLD_PRB_THRESH).rename('clouds')\n",
        "      #//Add the cloud probability layer and cloud mask as image bands.\n",
        "      return img.addBands(ee.Image([cld_prb, is_cloud]))\n",
        "\n",
        "\n",
        "  #//Cloud shadow components\n",
        "  def add_shadow_bands(img):\n",
        "      #//Identify water pixels from the SCL band.\n",
        "      #//var not_water = img.select('SCL').neq(6)\n",
        "      #//Identify dark NIR pixels that are not water (potential cloud shadow pixels).\n",
        "      SR_BAND_SCALE = 1e4\n",
        "      dark_pixels = img.select('B8').lt(NIR_DRK_THRESH*SR_BAND_SCALE).rename('dark_pixels')\n",
        "      #//Determine the direction to project cloud shadow from clouds (assumes UTM projection).\n",
        "      shadow_azimuth = ee.Number(90).subtract(ee.Number(img.get('MEAN_SOLAR_AZIMUTH_ANGLE')))\n",
        "      #//Project shadows from clouds for the distance specified by the CLD_PRJ_DIST input.\n",
        "      cld_proj = (img.select('clouds').directionalDistanceTransform(shadow_azimuth, CLD_PRJ_DIST*10)\n",
        "          .reproject(crs= img.select(0).projection(), scale= 100)\n",
        "          .select('distance')\n",
        "          .mask()\n",
        "          .rename('cloud_transform'))\n",
        "      #//Identify the intersection of dark pixels with cloud shadow projection.\n",
        "      shadows = cld_proj.multiply(dark_pixels).rename('shadows')\n",
        "      #//Add dark pixels, cloud projection, and identified shadows as image bands.\n",
        "      return img.addBands(ee.Image([dark_pixels, cld_proj, shadows]))\n",
        "\n",
        "\n",
        "  #//Final cloud-shadow mask\n",
        "  def add_cld_shdw_mask(img):\n",
        "      #//Add cloud component bands.\n",
        "      img_cloud = add_cloud_bands(img)\n",
        "      #//Add cloud shadow component bands.\n",
        "      img_cloud_shadow = add_shadow_bands(img_cloud)\n",
        "      #//Combine cloud and shadow mask, set cloud and shadow as value 1, else 0.\n",
        "      is_cld_shdw = img_cloud_shadow.select('clouds').add(img_cloud_shadow.select('shadows')).gt(0)\n",
        "      #//Remove small cloud-shadow patches and dilate remaining pixels by BUFFER input.\n",
        "      #//20 m scale is for speed, and assumes clouds don't require 10 m precision.\n",
        "      is_cld_shdw = (is_cld_shdw.focalMin(2).focalMax(BUFFER*2/20)\n",
        "          .reproject(crs = img.select([0]).projection(), scale = 20)\n",
        "          .rename('cloudmask'))\n",
        "      #//Add the final cloud-shadow mask to the image.\n",
        "      return img_cloud_shadow.addBands(is_cld_shdw)\n",
        "\n",
        "\n",
        "  def apply_cld_shdw_mask(img):\n",
        "      #//Subset the cloudmask band and invert it so clouds/shadow are 0, else 1.\n",
        "      not_cld_shdw = img.select('cloudmask').Not()\n",
        "      #//Subset reflectance bands and update their masks, return the result.\n",
        "      return img.select('B.*').updateMask(not_cld_shdw)\n",
        "\n",
        "\n",
        "  #//mask the water pixel\n",
        "  def apply_scl_water_mask(img):\n",
        "    scl = img.select('SCL')\n",
        "    wantedPixels = scl.neq(6)\n",
        "    targetPixels = scl.eq(4).Or(scl.eq(5))\n",
        "    return img.updateMask(wantedPixels)\n",
        "\n",
        "\n",
        "  #// Import and filter S2 SR.\n",
        "  s2_sr_col = (ee.ImageCollection('COPERNICUS/S2_SR_HARMONIZED')\n",
        "          .filterDate(start_date, end_date)\n",
        "          .filterBounds(boundary)\n",
        "          #// .filter(ee.Filter.lt('CLOUDY_PIXEL_PERCENTAGE', CLOUD_FILTER))\n",
        "          .filter(ee.Filter.eq('GENERAL_QUALITY','PASSED')))\n",
        "\n",
        "  #// Import and filter s2cloudless.\n",
        "  s2_cloudless_col = (ee.ImageCollection('COPERNICUS/S2_CLOUD_PROBABILITY')\n",
        "          .filterBounds(boundary)\n",
        "          .filterDate(start_date, end_date))\n",
        "\n",
        "  s2_sr_cld_col_eval = (ee.ImageCollection(ee.Join.saveFirst('s2cloudless').apply(\n",
        "          primary = s2_sr_col,\n",
        "          secondary = s2_cloudless_col,\n",
        "          condition = ee.Filter.equals(\n",
        "              leftField = 'system:index',\n",
        "              rightField = 'system:index'\n",
        "          )\n",
        "      )))\n",
        "\n",
        "  #//finding the initial days of the year\n",
        "  initialDate = ee.String(s2_sr_col.first().get('system:index'))\n",
        "  startYear = initialDate.slice(0,4)\n",
        "  month = initialDate.slice(4,6)\n",
        "  dateOfMonth = initialDate.slice(6,8)\n",
        "  initialDays = ee.Number.parse(ee.Date(startYear.cat('-').cat(month).cat('-').cat(dateOfMonth)).format('DDD'))\n",
        "  #// print('initialDays',initialDays)\n",
        "  #//creating final imgcollection\n",
        "  s2_no_cld_shdw =  (s2_sr_cld_col_eval\n",
        "                        .map(add_cld_shdw_mask)\n",
        "                        .map(apply_cld_shdw_mask)\n",
        "                        .map(lambda img: img.clip(boundary))\n",
        "                        .map(addVariables))\n",
        "  #// print('s2_no_cld_shdw',s2_no_cld_shdw)\n",
        "  return s2_no_cld_shdw"
      ]
    },
    {
      "cell_type": "markdown",
      "metadata": {
        "id": "Ma03P9fqsq0x"
      },
      "source": [
        "## **2. Cosine Regression**"
      ]
    },
    {
      "cell_type": "code",
      "execution_count": null,
      "metadata": {
        "colab": {
          "base_uri": "https://localhost:8080/",
          "height": 17
        },
        "id": "a_Zy2RUJso57",
        "outputId": "b6152073-9d66-48a3-9b42-ec940f39b360"
      },
      "outputs": [
        {
          "output_type": "display_data",
          "data": {
            "text/plain": [
              "<IPython.core.display.HTML object>"
            ],
            "text/html": [
              "\n",
              "            <style>\n",
              "                .geemap-dark {\n",
              "                    --jp-widgets-color: white;\n",
              "                    --jp-widgets-label-color: white;\n",
              "                    --jp-ui-font-color1: white;\n",
              "                    --jp-layout-color2: #454545;\n",
              "                    background-color: #383838;\n",
              "                }\n",
              "\n",
              "                .geemap-dark .jupyter-button {\n",
              "                    --jp-layout-color3: #383838;\n",
              "                }\n",
              "\n",
              "                .geemap-colab {\n",
              "                    background-color: var(--colab-primary-surface-color, white);\n",
              "                }\n",
              "\n",
              "                .geemap-colab .jupyter-button {\n",
              "                    --jp-layout-color3: var(--colab-primary-surface-color, white);\n",
              "                }\n",
              "            </style>\n",
              "            "
            ]
          },
          "metadata": {}
        }
      ],
      "source": [
        "import math\n",
        "\n",
        "def ResCoesCosine(order,speed,imgCollection):\n",
        "  dependentSeries = ee.List(band)#//,'B1II','B2II','B3II''NDVI',,'NDMI','MSI'\n",
        "  #//print('dependentSeries',dependentSeries);\n",
        "  #// The number of cycles per year to model.\n",
        "  #// Make a list of harmonic frequencies to model.\n",
        "  #// These also serve as band name suffixes.\n",
        "  harmonicFrequencies = ee.List.sequence(1, order)\n",
        "  #// Function to get a sequence of band names for harmonic terms.\n",
        "  # getNames = function(base, list) {\n",
        "  #   return ee.List(list).map(function(i) {\n",
        "  #     return ee.String(base).cat(ee.Number(i).int())\n",
        "  #   })\n",
        "  # }\n",
        "  def getNames(base, list):\n",
        "    return ee.List(list).map(lambda i:ee.String(base).cat(ee.Number(i).int()))\n",
        "\n",
        "  #// Construct lists of names for the harmonic terms.\n",
        "  cosNames = getNames('cos_', harmonicFrequencies)\n",
        "  #// Independent variables.\n",
        "  independents = ee.List(['constant']).cat(cosNames)\n",
        "  #// print('independents',independents);\n",
        "\n",
        "  def addConstant(image):\n",
        "    return image.addBands(ee.Image(1))\n",
        "\n",
        "  basicFrequency = speed\n",
        "  #// Function to add a time band.\n",
        "  def addTime(image):\n",
        "    #// Compute time in fractional years since the epoch.\n",
        "    days = ee.String(image.get('system:day_start'))\n",
        "    timeRadians = ee.Image(\n",
        "      ee.Number.parse(days).divide(365).multiply(basicFrequency*2*math.pi)\n",
        "    )\n",
        "    return image.addBands(timeRadians.rename('t').float())\n",
        "\n",
        "\n",
        "  def addHarmonics(freqs):\n",
        "    def addCosine(image):\n",
        "      #// Make an image of frequencies.\n",
        "      frequencies = ee.Image.constant(freqs)\n",
        "      #// This band should represent time in radians.\n",
        "      time = ee.Image(image).select('t')\n",
        "      #// Get the sin terms.\n",
        "      cosines = time.multiply(frequencies).cos().rename(cosNames)\n",
        "      return image.addBands(cosines)\n",
        "    return addCosine\n",
        "\n",
        "  #//print('imgCollection',imgCollection.map(addConstant).map(addTime));\n",
        "  #//print('speed',speed);\n",
        "  harmonicS2 = (imgCollection\n",
        "    .map(addConstant)\n",
        "    .map(addTime)\n",
        "    .map(addHarmonics(harmonicFrequencies)))\n",
        "  #//print('harmonicS2',harmonicS2);\n",
        "  #//amplitudes\n",
        "\n",
        "  amplitudes = (ee.ImageCollection(dependentSeries.map(lambda dependent: (harmonicS2.select(independents.add(dependent))\n",
        "                                                                                  .reduce(ee.Reducer.robustLinearRegression(independents.length(), 1))\n",
        "                                                                                  .select('coefficients')\n",
        "                                                                                  .arrayProject([0])\n",
        "                                                                                  .arrayFlatten([independents])\n",
        "                                                                                  #//.slice(1)\n",
        "                                                                                  #// .abs()\n",
        "                                                                                  .set('spectral',dependent))\n",
        "                                                                                )))\n",
        "  #// print('amplitudes',amplitudes);\n",
        "  return amplitudes\n"
      ]
    },
    {
      "cell_type": "markdown",
      "metadata": {
        "id": "jHim46IlwHOn"
      },
      "source": [
        "## **3. Generate Regression Coefficiency**"
      ]
    },
    {
      "cell_type": "code",
      "execution_count": null,
      "metadata": {
        "colab": {
          "base_uri": "https://localhost:8080/",
          "height": 17
        },
        "id": "ZHV8X-g7v7mO",
        "outputId": "0ede8275-2524-4f2f-f405-a51e49f49bd8"
      },
      "outputs": [
        {
          "output_type": "display_data",
          "data": {
            "text/plain": [
              "<IPython.core.display.HTML object>"
            ],
            "text/html": [
              "\n",
              "            <style>\n",
              "                .geemap-dark {\n",
              "                    --jp-widgets-color: white;\n",
              "                    --jp-widgets-label-color: white;\n",
              "                    --jp-ui-font-color1: white;\n",
              "                    --jp-layout-color2: #454545;\n",
              "                    background-color: #383838;\n",
              "                }\n",
              "\n",
              "                .geemap-dark .jupyter-button {\n",
              "                    --jp-layout-color3: #383838;\n",
              "                }\n",
              "\n",
              "                .geemap-colab {\n",
              "                    background-color: var(--colab-primary-surface-color, white);\n",
              "                }\n",
              "\n",
              "                .geemap-colab .jupyter-button {\n",
              "                    --jp-layout-color3: var(--colab-primary-surface-color, white);\n",
              "                }\n",
              "            </style>\n",
              "            "
            ]
          },
          "metadata": {}
        }
      ],
      "source": [
        "def coefficientsImg(startDate,endDate, region, MAX_CLOUD_PROBABILITY, order, speed):\n",
        "  NIR_DRK_THRESH = 0.25\n",
        "  CLD_PRJ_DIST = 1\n",
        "  BUFFER = 20\n",
        "  # startDate = year + startday\n",
        "  # endDate = year + endday\n",
        "  preProsS2 = S2_cutCldSlw(startDate,endDate,region,MAX_CLOUD_PROBABILITY,NIR_DRK_THRESH,CLD_PRJ_DIST,BUFFER)\n",
        "  coefficients = ResCoesCosine(order,speed,preProsS2).toBands()\n",
        "  return coefficients"
      ]
    },
    {
      "cell_type": "markdown",
      "metadata": {
        "id": "76lQpBLywVi5"
      },
      "source": [
        "## **4. Training sample processing**"
      ]
    },
    {
      "cell_type": "code",
      "execution_count": null,
      "metadata": {
        "colab": {
          "base_uri": "https://localhost:8080/",
          "height": 17
        },
        "id": "tX9TOfXlwUAX",
        "outputId": "c1aaf636-9322-4c46-f10b-7223a409b035"
      },
      "outputs": [
        {
          "output_type": "display_data",
          "data": {
            "text/plain": [
              "<IPython.core.display.HTML object>"
            ],
            "text/html": [
              "\n",
              "            <style>\n",
              "                .geemap-dark {\n",
              "                    --jp-widgets-color: white;\n",
              "                    --jp-widgets-label-color: white;\n",
              "                    --jp-ui-font-color1: white;\n",
              "                    --jp-layout-color2: #454545;\n",
              "                    background-color: #383838;\n",
              "                }\n",
              "\n",
              "                .geemap-dark .jupyter-button {\n",
              "                    --jp-layout-color3: #383838;\n",
              "                }\n",
              "\n",
              "                .geemap-colab {\n",
              "                    background-color: var(--colab-primary-surface-color, white);\n",
              "                }\n",
              "\n",
              "                .geemap-colab .jupyter-button {\n",
              "                    --jp-layout-color3: var(--colab-primary-surface-color, white);\n",
              "                }\n",
              "            </style>\n",
              "            "
            ]
          },
          "metadata": {}
        }
      ],
      "source": [
        "def labelExtractEven(year,region,labelNum):\n",
        "  # cdl = ee.Image('USDA/NASS/CDL/'+year).clip(region).select('cropland')\n",
        "  # confidence = ee.Image('USDA/NASS/CDL/'+year).clip(region).select('confidence')\n",
        "  # year  = ee.String('2019')\n",
        "  year1 = ee.Date(year)\n",
        "  year2 = ee.Date(ee.String(ee.Number.parse(year).add(1)))\n",
        "  cdl = ee.ImageCollection('USDA/NASS/CDL').filterDate(year1,year2).first().select('cropland')#.rename('cropland')\n",
        "  confidence = ee.ImageCollection('USDA/NASS/CDL').filterDate(year1,year2).first().select('confidence')#.rename('confidence')\n",
        "\n",
        "  cornValue = 1  # Corn\n",
        "  soybeanValue = 5 # Soybeans\n",
        "  # // Create a mask that removes corn and soybean pixels\n",
        "  otherMask = (cdl.neq(cornValue).And(cdl.neq(soybeanValue))).And(confidence.gt(85)).rename('mask')\n",
        "  csmask = (cdl.eq(cornValue).Or(cdl.eq(soybeanValue))).And(confidence.gt(85)).rename('mask')\n",
        "\n",
        "  # // Apply the mask to the CDL data\n",
        "  # // var otherFiltered = cdl.updateMask(otherMask).rename('croptype')\n",
        "  csFiltered = cdl.updateMask(csmask).rename('croptype')\n",
        "\n",
        "  otherLabel = otherMask.selfMask().stratifiedSample(\n",
        "    numPoints = labelNum,\n",
        "    classBand = \"mask\",\n",
        "    region = region,\n",
        "    scale = 30,\n",
        "    geometries = True\n",
        "  ).map(lambda ele: ele.set('croptype',0))\n",
        "  #display('otherLabel',otherLabel.size(),otherLabel)\n",
        "\n",
        "  cornsoybenaLabel = csFiltered.stratifiedSample(\n",
        "    numPoints = otherLabel.size(),\n",
        "    classBand = \"croptype\",\n",
        "    region = region,\n",
        "    scale = 30,\n",
        "    geometries = True\n",
        "  )\n",
        "  #display('cornsoybenaLabel',cornsoybenaLabel.size(),cornsoybenaLabel)\n",
        "\n",
        "  allLabel = otherLabel.merge(cornsoybenaLabel)\n",
        "  return allLabel\n",
        "\n",
        "#//extract training samples in a district\n",
        "def trainingSample(coefficiency, labelPoints, cropLabel):\n",
        "  extractSample = coefficiency.sampleRegions(\n",
        "                                            collection = labelPoints,\n",
        "                                            properties = [cropLabel],\n",
        "                                            scale = 10,\n",
        "                                            tileScale = 4,\n",
        "                                            geometries = True\n",
        "                                          )\n",
        "  return extractSample\n",
        "\n",
        "\n",
        "def cropSamples(roi,year,coefficiency,number,classBand):\n",
        "  croplabel = labelExtractEven(year,roi,number)\n",
        "  trainingSamples = trainingSample(coefficiency, croplabel, classBand)\n",
        "  return trainingSamples\n",
        "\n",
        "\n",
        "#//sampel type setting\n",
        "def setType(feature):\n",
        "  croptype = feature.get('croptype')\n",
        "  oneBool = ee.Algorithms.IsEqual(croptype, 1)\n",
        "  fiveBool = ee.Algorithms.IsEqual(croptype, 5)\n",
        "  equalBool = ee.Algorithms.IsEqual(oneBool, fiveBool)\n",
        "  return (feature.set('croptype', ee.Algorithms.If(equalBool, 0, croptype)))"
      ]
    },
    {
      "cell_type": "markdown",
      "metadata": {
        "id": "l58flvYGxl74"
      },
      "source": [
        "## **5. Generate classifier for each given grid**"
      ]
    },
    {
      "cell_type": "code",
      "execution_count": null,
      "metadata": {
        "colab": {
          "base_uri": "https://localhost:8080/",
          "height": 17
        },
        "id": "3MA6lTsNxkqZ",
        "outputId": "a77371c9-2111-483d-81c1-4ba9decacb40"
      },
      "outputs": [
        {
          "output_type": "display_data",
          "data": {
            "text/plain": [
              "<IPython.core.display.HTML object>"
            ],
            "text/html": [
              "\n",
              "            <style>\n",
              "                .geemap-dark {\n",
              "                    --jp-widgets-color: white;\n",
              "                    --jp-widgets-label-color: white;\n",
              "                    --jp-ui-font-color1: white;\n",
              "                    --jp-layout-color2: #454545;\n",
              "                    background-color: #383838;\n",
              "                }\n",
              "\n",
              "                .geemap-dark .jupyter-button {\n",
              "                    --jp-layout-color3: #383838;\n",
              "                }\n",
              "\n",
              "                .geemap-colab {\n",
              "                    background-color: var(--colab-primary-surface-color, white);\n",
              "                }\n",
              "\n",
              "                .geemap-colab .jupyter-button {\n",
              "                    --jp-layout-color3: var(--colab-primary-surface-color, white);\n",
              "                }\n",
              "            </style>\n",
              "            "
            ]
          },
          "metadata": {}
        }
      ],
      "source": [
        "def classificationByGrid(region):\n",
        "\n",
        "  #training and classifcation year list\n",
        "  yearList = [str(year) for year in range(2019, int(predictYear))]\n",
        "\n",
        "  startDay = '-05-01'\n",
        "  endDay = '-07-01'\n",
        "  diff = 62\n",
        "\n",
        "  if season == 'July':\n",
        "    endDay = '-08-01'\n",
        "    diff = 92\n",
        "  elif season == 'August':\n",
        "    endDay = '-09-01'\n",
        "    diff = 123\n",
        "\n",
        "  startPredictDay = predictYear + startDay\n",
        "  endPredictDay = predictYear + endDay\n",
        "\n",
        "  startDayList = ee.List([year+startDay for year in yearList])\n",
        "\n",
        "  def sampleList(startDay):\n",
        "    startDay = ee.Date(startDay)\n",
        "    endDay = startDay.advance(diff,'day')\n",
        "    year = ee.String(startDay.format('YYYY'))\n",
        "    coefficiencyImages = coefficientsImg(startDay,endDay,region,MAX_CLOUD_PROBABILITY,order,k)\n",
        "    trainingSamples =  cropSamples(region,year,coefficiencyImages,singleTypeNum,cropLabel)\n",
        "    return trainingSamples\n",
        "\n",
        "  trainingSamples = ee.FeatureCollection(startDayList.map(sampleList)).flatten()\n",
        "\n",
        "  predictCoefficiencyImages = coefficientsImg(startPredictDay,endPredictDay,region,MAX_CLOUD_PROBABILITY,order,k)\n",
        "\n",
        "  def imgClassified():\n",
        "    return (predictCoefficiencyImages.classify(ee.Classifier.smileRandomForest(100).train(\n",
        "                                features = trainingSamples,\n",
        "                                classProperty = 'croptype',\n",
        "                                inputProperties = predictCoefficiencyImages.bandNames()\n",
        "                              )\n",
        "                          ).remap([1,5],[1,5]).clip(region).set('type','classification'))\n",
        "\n",
        "  def imgNull():\n",
        "    return ee.Image(0).clip(region).set('type','null')\n",
        "\n",
        "  return ee.Algorithms.If(trainingSamples.size().neq(0).And(trainingSamples.aggregate_count_distinct(\"croptype\").neq(1)),imgClassified(),imgNull())\n",
        "\n"
      ]
    },
    {
      "cell_type": "markdown",
      "metadata": {
        "id": "iTlRUSFwz9S1"
      },
      "source": [
        "# **6. State grids classifier**"
      ]
    },
    {
      "cell_type": "code",
      "execution_count": null,
      "metadata": {
        "colab": {
          "base_uri": "https://localhost:8080/",
          "height": 17
        },
        "id": "ZM8MSq35z5bO",
        "outputId": "bf864732-d1f2-48a2-bf60-adfc10546fcc"
      },
      "outputs": [
        {
          "output_type": "display_data",
          "data": {
            "text/plain": [
              "<IPython.core.display.HTML object>"
            ],
            "text/html": [
              "\n",
              "            <style>\n",
              "                .geemap-dark {\n",
              "                    --jp-widgets-color: white;\n",
              "                    --jp-widgets-label-color: white;\n",
              "                    --jp-ui-font-color1: white;\n",
              "                    --jp-layout-color2: #454545;\n",
              "                    background-color: #383838;\n",
              "                }\n",
              "\n",
              "                .geemap-dark .jupyter-button {\n",
              "                    --jp-layout-color3: #383838;\n",
              "                }\n",
              "\n",
              "                .geemap-colab {\n",
              "                    background-color: var(--colab-primary-surface-color, white);\n",
              "                }\n",
              "\n",
              "                .geemap-colab .jupyter-button {\n",
              "                    --jp-layout-color3: var(--colab-primary-surface-color, white);\n",
              "                }\n",
              "            </style>\n",
              "            "
            ]
          },
          "metadata": {}
        }
      ],
      "source": [
        "def stateClassificaiton(stateName):\n",
        "  #// Load the country features from the LSIB dataset.\n",
        "  countries = ee.FeatureCollection('USDOS/LSIB_SIMPLE/2017')\n",
        "  stateboundary = ee.FeatureCollection(\"TIGER/2018/States\")\n",
        "  state = stateboundary.filter(ee.Filter.eq('NAME',stateName))\n",
        "  stateGeometry = state.geometry()\n",
        "  #// Construct grid and intersect with country polygon\n",
        "  grid = (stateGeometry.coveringGrid(stateGeometry.projection(),gridSize).map(lambda fea: fea.set('id',fea.id().replace('-', '').replace(',', ''))))\n",
        "\n",
        "  gridList = grid.toList(grid.size())\n",
        "  print(stateName + ' GridNumber:', grid.size().getInfo())\n",
        "\n",
        "  gridNum = gridList.size().getInfo()\n",
        "  for q in range(gridNum):\n",
        "    geo = ee.Feature(gridList.get(q)).geometry()\n",
        "    id = ee.Feature(gridList.get(q)).get('id').getInfo()\n",
        "\n",
        "    CDL_cropland = (ee.Image('USDA/NASS/CDL/'+str(int(predictYear)-1))\n",
        "                .select('cultivated')\n",
        "                .clip(geo)\n",
        "                .remap([1,2],[0,1]))\n",
        "\n",
        "    gridPrediction = ee.Image(classificationByGrid(geo)).multiply(CDL_cropland).toByte()\n",
        "\n",
        "    stateName = stateName.replace(\" \", \"\")\n",
        "    predictionName = stateName + predictYear + season + str(q) + 'th_501_424_Equal' + str(singleTypeNum)\n",
        "    task = ee.batch.Export.image.toDrive(\n",
        "        image = gridPrediction,\n",
        "        description = predictionName,\n",
        "        folder = 'US_TS501_424_Equal' + stateName,\n",
        "        region = geo,\n",
        "        scale = 10,\n",
        "        crs = 'EPSG:5070',\n",
        "        maxPixels= 10000000000000\n",
        "    )\n",
        "    task.start()\n",
        "    print(predictionName + ' Well Done')\n"
      ]
    },
    {
      "cell_type": "markdown",
      "metadata": {
        "id": "NmgJ9bmL3gRH"
      },
      "source": [
        "# **7. Operation**"
      ]
    },
    {
      "cell_type": "code",
      "execution_count": null,
      "metadata": {
        "colab": {
          "base_uri": "https://localhost:8080/",
          "height": 69
        },
        "id": "TWK_U8Q0xbDy",
        "outputId": "eade66e2-f774-4325-a495-3e95d256085d"
      },
      "outputs": [
        {
          "output_type": "display_data",
          "data": {
            "text/plain": [
              "<IPython.core.display.HTML object>"
            ],
            "text/html": [
              "\n",
              "            <style>\n",
              "                .geemap-dark {\n",
              "                    --jp-widgets-color: white;\n",
              "                    --jp-widgets-label-color: white;\n",
              "                    --jp-ui-font-color1: white;\n",
              "                    --jp-layout-color2: #454545;\n",
              "                    background-color: #383838;\n",
              "                }\n",
              "\n",
              "                .geemap-dark .jupyter-button {\n",
              "                    --jp-layout-color3: #383838;\n",
              "                }\n",
              "\n",
              "                .geemap-colab {\n",
              "                    background-color: var(--colab-primary-surface-color, white);\n",
              "                }\n",
              "\n",
              "                .geemap-colab .jupyter-button {\n",
              "                    --jp-layout-color3: var(--colab-primary-surface-color, white);\n",
              "                }\n",
              "            </style>\n",
              "            "
            ]
          },
          "metadata": {}
        },
        {
          "output_type": "stream",
          "name": "stdout",
          "text": [
            "Kansas GridNumber: 31\n",
            "Kansas2023August24th_501_424_Equal300 Well Done\n",
            "Kansas2023August18th_501_424_Equal300 Well Done\n"
          ]
        }
      ],
      "source": [
        "cropLabel = \"croptype\"\n",
        "MAX_CLOUD_PROBABILITY = 70\n",
        "order = 4\n",
        "k = 2.4\n",
        "band = [\"B3\",\"B4\",\"B5\",\"B8\",\"B11\",\"B12\",\"NDVI\",\"GCVI\",\"MSI\",\"NDWI\"]\n",
        "\n",
        "predictYear = '2023'\n",
        "singleTypeNum  = 2000\n",
        "gridSize = 120000\n",
        "stateName = ['Iowa','Kansas','Ohio','Wisconsin','Minnesota','Michigan']\n",
        "# stateName = ['South Dakota','Missouri','Illinois','Kentucky','Indiana','North Dakota']\n",
        "\n",
        "for m in stateName:\n",
        "  season = 'August'\n",
        "  stateClassificaiton(m)\n",
        "\n",
        "# for j in stateName:\n",
        "#   season = 'July'\n",
        "#   stateClassificaiton(j)\n",
        "\n",
        "# for i in stateName:\n",
        "#   season = 'June'\n",
        "#   stateClassificaiton(i)\n"
      ]
    }
  ],
  "metadata": {
    "colab": {
      "provenance": [],
      "machine_shape": "hm",
      "gpuType": "A100",
      "include_colab_link": true
    },
    "kernelspec": {
      "display_name": "Python 3",
      "name": "python3"
    },
    "language_info": {
      "name": "python"
    }
  },
  "nbformat": 4,
  "nbformat_minor": 0
}